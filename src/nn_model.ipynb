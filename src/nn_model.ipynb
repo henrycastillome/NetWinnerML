{
 "cells": [
  {
   "cell_type": "code",
   "execution_count": 1,
   "metadata": {},
   "outputs": [],
   "source": [
    "import numpy as np\n",
    "import pandas as pd\n",
    "import matplotlib.pyplot as plt\n",
    "import seaborn as sns\n",
    "sns.set(style='darkgrid')\n",
    "from utils import *"
   ]
  },
  {
   "cell_type": "code",
   "execution_count": 2,
   "metadata": {},
   "outputs": [
    {
     "data": {
      "text/html": [
       "<div>\n",
       "<style scoped>\n",
       "    .dataframe tbody tr th:only-of-type {\n",
       "        vertical-align: middle;\n",
       "    }\n",
       "\n",
       "    .dataframe tbody tr th {\n",
       "        vertical-align: top;\n",
       "    }\n",
       "\n",
       "    .dataframe thead th {\n",
       "        text-align: right;\n",
       "    }\n",
       "</style>\n",
       "<table border=\"1\" class=\"dataframe\">\n",
       "  <thead>\n",
       "    <tr style=\"text-align: right;\">\n",
       "      <th></th>\n",
       "      <th>player_id</th>\n",
       "      <th>player_name</th>\n",
       "      <th>player_hand</th>\n",
       "      <th>player_ht</th>\n",
       "      <th>player_age</th>\n",
       "      <th>ace</th>\n",
       "      <th>df</th>\n",
       "      <th>svpt</th>\n",
       "      <th>1stIn</th>\n",
       "      <th>1stWon</th>\n",
       "      <th>...</th>\n",
       "      <th>SvGms</th>\n",
       "      <th>bpSaved</th>\n",
       "      <th>bpFaced</th>\n",
       "      <th>rank</th>\n",
       "      <th>opponent_rank</th>\n",
       "      <th>surface</th>\n",
       "      <th>tourney_level</th>\n",
       "      <th>best_of</th>\n",
       "      <th>target</th>\n",
       "      <th>month</th>\n",
       "    </tr>\n",
       "  </thead>\n",
       "  <tbody>\n",
       "    <tr>\n",
       "      <th>0</th>\n",
       "      <td>100644</td>\n",
       "      <td>Alexander Zverev</td>\n",
       "      <td>R</td>\n",
       "      <td>198</td>\n",
       "      <td>26</td>\n",
       "      <td>10</td>\n",
       "      <td>1</td>\n",
       "      <td>66</td>\n",
       "      <td>47</td>\n",
       "      <td>33</td>\n",
       "      <td>...</td>\n",
       "      <td>10</td>\n",
       "      <td>3</td>\n",
       "      <td>4</td>\n",
       "      <td>7</td>\n",
       "      <td>5</td>\n",
       "      <td>Hard</td>\n",
       "      <td>A</td>\n",
       "      <td>3</td>\n",
       "      <td>1</td>\n",
       "      <td>11</td>\n",
       "    </tr>\n",
       "    <tr>\n",
       "      <th>1</th>\n",
       "      <td>100644</td>\n",
       "      <td>Alexander Zverev</td>\n",
       "      <td>R</td>\n",
       "      <td>198</td>\n",
       "      <td>25</td>\n",
       "      <td>5</td>\n",
       "      <td>1</td>\n",
       "      <td>44</td>\n",
       "      <td>27</td>\n",
       "      <td>16</td>\n",
       "      <td>...</td>\n",
       "      <td>8</td>\n",
       "      <td>3</td>\n",
       "      <td>7</td>\n",
       "      <td>15</td>\n",
       "      <td>97</td>\n",
       "      <td>Hard</td>\n",
       "      <td>M</td>\n",
       "      <td>3</td>\n",
       "      <td>0</td>\n",
       "      <td>3</td>\n",
       "    </tr>\n",
       "    <tr>\n",
       "      <th>2</th>\n",
       "      <td>100644</td>\n",
       "      <td>Alexander Zverev</td>\n",
       "      <td>R</td>\n",
       "      <td>198</td>\n",
       "      <td>26</td>\n",
       "      <td>5</td>\n",
       "      <td>5</td>\n",
       "      <td>90</td>\n",
       "      <td>66</td>\n",
       "      <td>50</td>\n",
       "      <td>...</td>\n",
       "      <td>15</td>\n",
       "      <td>3</td>\n",
       "      <td>6</td>\n",
       "      <td>19</td>\n",
       "      <td>81</td>\n",
       "      <td>Clay</td>\n",
       "      <td>A</td>\n",
       "      <td>3</td>\n",
       "      <td>1</td>\n",
       "      <td>7</td>\n",
       "    </tr>\n",
       "    <tr>\n",
       "      <th>3</th>\n",
       "      <td>100644</td>\n",
       "      <td>Alexander Zverev</td>\n",
       "      <td>R</td>\n",
       "      <td>198</td>\n",
       "      <td>26</td>\n",
       "      <td>3</td>\n",
       "      <td>1</td>\n",
       "      <td>41</td>\n",
       "      <td>33</td>\n",
       "      <td>26</td>\n",
       "      <td>...</td>\n",
       "      <td>7</td>\n",
       "      <td>2</td>\n",
       "      <td>2</td>\n",
       "      <td>19</td>\n",
       "      <td>122</td>\n",
       "      <td>Clay</td>\n",
       "      <td>A</td>\n",
       "      <td>3</td>\n",
       "      <td>1</td>\n",
       "      <td>7</td>\n",
       "    </tr>\n",
       "    <tr>\n",
       "      <th>4</th>\n",
       "      <td>100644</td>\n",
       "      <td>Alexander Zverev</td>\n",
       "      <td>R</td>\n",
       "      <td>198</td>\n",
       "      <td>26</td>\n",
       "      <td>7</td>\n",
       "      <td>0</td>\n",
       "      <td>55</td>\n",
       "      <td>42</td>\n",
       "      <td>20</td>\n",
       "      <td>...</td>\n",
       "      <td>8</td>\n",
       "      <td>2</td>\n",
       "      <td>6</td>\n",
       "      <td>10</td>\n",
       "      <td>50</td>\n",
       "      <td>Hard</td>\n",
       "      <td>M</td>\n",
       "      <td>3</td>\n",
       "      <td>0</td>\n",
       "      <td>10</td>\n",
       "    </tr>\n",
       "  </tbody>\n",
       "</table>\n",
       "<p>5 rows × 21 columns</p>\n",
       "</div>"
      ],
      "text/plain": [
       "   player_id       player_name player_hand  player_ht  player_age  ace  df  \\\n",
       "0     100644  Alexander Zverev           R        198          26   10   1   \n",
       "1     100644  Alexander Zverev           R        198          25    5   1   \n",
       "2     100644  Alexander Zverev           R        198          26    5   5   \n",
       "3     100644  Alexander Zverev           R        198          26    3   1   \n",
       "4     100644  Alexander Zverev           R        198          26    7   0   \n",
       "\n",
       "   svpt  1stIn  1stWon  ...  SvGms  bpSaved  bpFaced  rank  opponent_rank  \\\n",
       "0    66     47      33  ...     10        3        4     7              5   \n",
       "1    44     27      16  ...      8        3        7    15             97   \n",
       "2    90     66      50  ...     15        3        6    19             81   \n",
       "3    41     33      26  ...      7        2        2    19            122   \n",
       "4    55     42      20  ...      8        2        6    10             50   \n",
       "\n",
       "   surface tourney_level best_of  target  month  \n",
       "0     Hard             A       3       1     11  \n",
       "1     Hard             M       3       0      3  \n",
       "2     Clay             A       3       1      7  \n",
       "3     Clay             A       3       1      7  \n",
       "4     Hard             M       3       0     10  \n",
       "\n",
       "[5 rows x 21 columns]"
      ]
     },
     "execution_count": 2,
     "metadata": {},
     "output_type": "execute_result"
    }
   ],
   "source": [
    "df_tennis=pd.read_csv('../data/prepared_data.csv')\n",
    "df_tennis.head()"
   ]
  },
  {
   "cell_type": "code",
   "execution_count": 3,
   "metadata": {},
   "outputs": [
    {
     "data": {
      "text/plain": [
       "Index(['player_id', 'player_name', 'player_hand', 'player_ht', 'player_age',\n",
       "       'ace', 'df', 'svpt', '1stIn', '1stWon', '2ndWon', 'SvGms', 'bpSaved',\n",
       "       'bpFaced', 'rank', 'opponent_rank', 'surface', 'tourney_level',\n",
       "       'best_of', 'target', 'month'],\n",
       "      dtype='object')"
      ]
     },
     "execution_count": 3,
     "metadata": {},
     "output_type": "execute_result"
    }
   ],
   "source": [
    "df_tennis.columns"
   ]
  },
  {
   "cell_type": "code",
   "execution_count": 4,
   "metadata": {},
   "outputs": [
    {
     "data": {
      "text/html": [
       "<div>\n",
       "<style scoped>\n",
       "    .dataframe tbody tr th:only-of-type {\n",
       "        vertical-align: middle;\n",
       "    }\n",
       "\n",
       "    .dataframe tbody tr th {\n",
       "        vertical-align: top;\n",
       "    }\n",
       "\n",
       "    .dataframe thead th {\n",
       "        text-align: right;\n",
       "    }\n",
       "</style>\n",
       "<table border=\"1\" class=\"dataframe\">\n",
       "  <thead>\n",
       "    <tr style=\"text-align: right;\">\n",
       "      <th></th>\n",
       "      <th>player_name</th>\n",
       "      <th>player_hand</th>\n",
       "      <th>player_ht</th>\n",
       "      <th>player_age</th>\n",
       "      <th>ace</th>\n",
       "      <th>df</th>\n",
       "      <th>svpt</th>\n",
       "      <th>1stIn</th>\n",
       "      <th>1stWon</th>\n",
       "      <th>2ndWon</th>\n",
       "      <th>SvGms</th>\n",
       "      <th>bpSaved</th>\n",
       "      <th>bpFaced</th>\n",
       "      <th>rank</th>\n",
       "      <th>opponent_rank</th>\n",
       "      <th>surface</th>\n",
       "      <th>tourney_level</th>\n",
       "      <th>best_of</th>\n",
       "      <th>target</th>\n",
       "      <th>month</th>\n",
       "    </tr>\n",
       "  </thead>\n",
       "  <tbody>\n",
       "    <tr>\n",
       "      <th>0</th>\n",
       "      <td>Alexander Zverev</td>\n",
       "      <td>R</td>\n",
       "      <td>198</td>\n",
       "      <td>26</td>\n",
       "      <td>10</td>\n",
       "      <td>1</td>\n",
       "      <td>66</td>\n",
       "      <td>47</td>\n",
       "      <td>33</td>\n",
       "      <td>11</td>\n",
       "      <td>10</td>\n",
       "      <td>3</td>\n",
       "      <td>4</td>\n",
       "      <td>7</td>\n",
       "      <td>5</td>\n",
       "      <td>Hard</td>\n",
       "      <td>A</td>\n",
       "      <td>3</td>\n",
       "      <td>1</td>\n",
       "      <td>11</td>\n",
       "    </tr>\n",
       "    <tr>\n",
       "      <th>1</th>\n",
       "      <td>Alexander Zverev</td>\n",
       "      <td>R</td>\n",
       "      <td>198</td>\n",
       "      <td>25</td>\n",
       "      <td>5</td>\n",
       "      <td>1</td>\n",
       "      <td>44</td>\n",
       "      <td>27</td>\n",
       "      <td>16</td>\n",
       "      <td>7</td>\n",
       "      <td>8</td>\n",
       "      <td>3</td>\n",
       "      <td>7</td>\n",
       "      <td>15</td>\n",
       "      <td>97</td>\n",
       "      <td>Hard</td>\n",
       "      <td>M</td>\n",
       "      <td>3</td>\n",
       "      <td>0</td>\n",
       "      <td>3</td>\n",
       "    </tr>\n",
       "    <tr>\n",
       "      <th>2</th>\n",
       "      <td>Alexander Zverev</td>\n",
       "      <td>R</td>\n",
       "      <td>198</td>\n",
       "      <td>26</td>\n",
       "      <td>5</td>\n",
       "      <td>5</td>\n",
       "      <td>90</td>\n",
       "      <td>66</td>\n",
       "      <td>50</td>\n",
       "      <td>8</td>\n",
       "      <td>15</td>\n",
       "      <td>3</td>\n",
       "      <td>6</td>\n",
       "      <td>19</td>\n",
       "      <td>81</td>\n",
       "      <td>Clay</td>\n",
       "      <td>A</td>\n",
       "      <td>3</td>\n",
       "      <td>1</td>\n",
       "      <td>7</td>\n",
       "    </tr>\n",
       "    <tr>\n",
       "      <th>3</th>\n",
       "      <td>Alexander Zverev</td>\n",
       "      <td>R</td>\n",
       "      <td>198</td>\n",
       "      <td>26</td>\n",
       "      <td>3</td>\n",
       "      <td>1</td>\n",
       "      <td>41</td>\n",
       "      <td>33</td>\n",
       "      <td>26</td>\n",
       "      <td>4</td>\n",
       "      <td>7</td>\n",
       "      <td>2</td>\n",
       "      <td>2</td>\n",
       "      <td>19</td>\n",
       "      <td>122</td>\n",
       "      <td>Clay</td>\n",
       "      <td>A</td>\n",
       "      <td>3</td>\n",
       "      <td>1</td>\n",
       "      <td>7</td>\n",
       "    </tr>\n",
       "    <tr>\n",
       "      <th>4</th>\n",
       "      <td>Alexander Zverev</td>\n",
       "      <td>R</td>\n",
       "      <td>198</td>\n",
       "      <td>26</td>\n",
       "      <td>7</td>\n",
       "      <td>0</td>\n",
       "      <td>55</td>\n",
       "      <td>42</td>\n",
       "      <td>20</td>\n",
       "      <td>8</td>\n",
       "      <td>8</td>\n",
       "      <td>2</td>\n",
       "      <td>6</td>\n",
       "      <td>10</td>\n",
       "      <td>50</td>\n",
       "      <td>Hard</td>\n",
       "      <td>M</td>\n",
       "      <td>3</td>\n",
       "      <td>0</td>\n",
       "      <td>10</td>\n",
       "    </tr>\n",
       "  </tbody>\n",
       "</table>\n",
       "</div>"
      ],
      "text/plain": [
       "        player_name player_hand  player_ht  player_age  ace  df  svpt  1stIn  \\\n",
       "0  Alexander Zverev           R        198          26   10   1    66     47   \n",
       "1  Alexander Zverev           R        198          25    5   1    44     27   \n",
       "2  Alexander Zverev           R        198          26    5   5    90     66   \n",
       "3  Alexander Zverev           R        198          26    3   1    41     33   \n",
       "4  Alexander Zverev           R        198          26    7   0    55     42   \n",
       "\n",
       "   1stWon  2ndWon  SvGms  bpSaved  bpFaced  rank  opponent_rank surface  \\\n",
       "0      33      11     10        3        4     7              5    Hard   \n",
       "1      16       7      8        3        7    15             97    Hard   \n",
       "2      50       8     15        3        6    19             81    Clay   \n",
       "3      26       4      7        2        2    19            122    Clay   \n",
       "4      20       8      8        2        6    10             50    Hard   \n",
       "\n",
       "  tourney_level  best_of  target  month  \n",
       "0             A        3       1     11  \n",
       "1             M        3       0      3  \n",
       "2             A        3       1      7  \n",
       "3             A        3       1      7  \n",
       "4             M        3       0     10  "
      ]
     },
     "execution_count": 4,
     "metadata": {},
     "output_type": "execute_result"
    }
   ],
   "source": [
    "df_tennis.drop('player_id',axis=1,inplace=True)\n",
    "df_tennis.head()"
   ]
  },
  {
   "cell_type": "code",
   "execution_count": 5,
   "metadata": {},
   "outputs": [
    {
     "name": "stderr",
     "output_type": "stream",
     "text": [
      "2023-12-12 03:52:09.154737: I tensorflow/core/platform/cpu_feature_guard.cc:182] This TensorFlow binary is optimized to use available CPU instructions in performance-critical operations.\n",
      "To enable the following instructions: AVX2 FMA, in other operations, rebuild TensorFlow with the appropriate compiler flags.\n"
     ]
    }
   ],
   "source": [
    "from sklearn.model_selection import train_test_split\n",
    "from sklearn.preprocessing import StandardScaler, LabelEncoder\n",
    "from sklearn.metrics import accuracy_score, confusion_matrix, classification_report\n",
    "import tensorflow as tf\n",
    "from tensorflow.keras.models import Sequential\n",
    "from tensorflow.keras.layers import Dense"
   ]
  },
  {
   "cell_type": "code",
   "execution_count": 6,
   "metadata": {},
   "outputs": [],
   "source": [
    "#label encoding\n",
    "le=LabelEncoder()\n",
    "df_tennis['player_hand_encoded']=le.fit_transform(df_tennis['player_hand'])\n",
    "\n",
    "#hot encoding\n",
    "df_tennis=pd.get_dummies(df_tennis, columns=['surface', 'tourney_level'], drop_first=True)\n",
    "\n",
    "#standardization numeric features\n",
    "scaler=StandardScaler()\n",
    "numerical_cols=['player_ht', 'player_age', 'ace', 'df', 'svpt', '1stIn', '1stWon', '2ndWon', 'SvGms', 'bpSaved', 'bpFaced', 'rank', 'opponent_rank']\n",
    "\n",
    "df_tennis[numerical_cols]=scaler.fit_transform(df_tennis[numerical_cols])\n",
    "\n",
    "#splitting data\n",
    "X=df_tennis.drop(['target', 'player_name', 'player_hand'], axis=1)\n",
    "y=df_tennis['target']\n",
    "\n",
    "X_train, X_test, y_train, y_test=train_test_split(X, y, test_size=0.2, random_state=42)\n",
    "\n",
    "\n",
    "\n"
   ]
  },
  {
   "cell_type": "code",
   "execution_count": 7,
   "metadata": {},
   "outputs": [],
   "source": [
    "#building model\n",
    "model=Sequential()\n",
    "model.add(Dense(64, input_dim=X_train.shape[1], activation='relu'))\n",
    "model.add(Dense(32, activation='relu'))\n",
    "model.add(Dense(1, activation='sigmoid')) #sigmoid because we have binary classification\n",
    "\n",
    "#compiling model\n",
    "model.compile(loss='binary_crossentropy', optimizer='adam', metrics=['accuracy'])"
   ]
  },
  {
   "cell_type": "code",
   "execution_count": 8,
   "metadata": {},
   "outputs": [
    {
     "name": "stdout",
     "output_type": "stream",
     "text": [
      "Epoch 1/10\n",
      "110/110 [==============================] - 1s 4ms/step - loss: 0.6103 - accuracy: 0.6728 - val_loss: 0.5459 - val_accuracy: 0.7398\n",
      "Epoch 2/10\n",
      "110/110 [==============================] - 0s 2ms/step - loss: 0.5039 - accuracy: 0.7547 - val_loss: 0.4893 - val_accuracy: 0.7648\n",
      "Epoch 3/10\n",
      "110/110 [==============================] - 0s 2ms/step - loss: 0.4587 - accuracy: 0.7794 - val_loss: 0.4829 - val_accuracy: 0.7659\n",
      "Epoch 4/10\n",
      "110/110 [==============================] - 0s 2ms/step - loss: 0.4330 - accuracy: 0.7905 - val_loss: 0.4569 - val_accuracy: 0.7818\n",
      "Epoch 5/10\n",
      "110/110 [==============================] - 0s 2ms/step - loss: 0.4190 - accuracy: 0.7951 - val_loss: 0.4414 - val_accuracy: 0.7943\n",
      "Epoch 6/10\n",
      "110/110 [==============================] - 0s 2ms/step - loss: 0.4067 - accuracy: 0.8073 - val_loss: 0.4342 - val_accuracy: 0.7932\n",
      "Epoch 7/10\n",
      "110/110 [==============================] - 0s 2ms/step - loss: 0.3979 - accuracy: 0.8104 - val_loss: 0.4391 - val_accuracy: 0.7932\n",
      "Epoch 8/10\n",
      "110/110 [==============================] - 0s 2ms/step - loss: 0.3930 - accuracy: 0.8101 - val_loss: 0.4342 - val_accuracy: 0.7966\n",
      "Epoch 9/10\n",
      "110/110 [==============================] - 0s 2ms/step - loss: 0.3852 - accuracy: 0.8161 - val_loss: 0.4328 - val_accuracy: 0.8068\n",
      "Epoch 10/10\n",
      "110/110 [==============================] - 0s 2ms/step - loss: 0.3882 - accuracy: 0.8132 - val_loss: 0.4439 - val_accuracy: 0.7886\n"
     ]
    },
    {
     "data": {
      "text/plain": [
       "<keras.callbacks.History at 0x13279a020>"
      ]
     },
     "execution_count": 8,
     "metadata": {},
     "output_type": "execute_result"
    }
   ],
   "source": [
    "#training model\n",
    "model.fit(X_train, y_train, epochs=10, batch_size=32, validation_split=0.2)\n"
   ]
  },
  {
   "cell_type": "code",
   "execution_count": 9,
   "metadata": {},
   "outputs": [
    {
     "name": "stdout",
     "output_type": "stream",
     "text": [
      "35/35 [==============================] - 0s 2ms/step\n",
      "Accuracy: 0.75\n",
      "Confusion Matrix: \n",
      " [[474  77]\n",
      " [197 352]]\n",
      "Classification Report: \n",
      "               precision    recall  f1-score   support\n",
      "\n",
      "           0       0.71      0.86      0.78       551\n",
      "           1       0.82      0.64      0.72       549\n",
      "\n",
      "    accuracy                           0.75      1100\n",
      "   macro avg       0.76      0.75      0.75      1100\n",
      "weighted avg       0.76      0.75      0.75      1100\n",
      "\n"
     ]
    }
   ],
   "source": [
    "#evaluating model\n",
    "y_pred=model.predict(X_test)\n",
    "y_pred=(y_pred>0.5).astype(int).reshape(X_test.shape[0])\n",
    "\n",
    "print('Accuracy: {:.2f}'.format(accuracy_score(y_test, y_pred)))\n",
    "print('Confusion Matrix: \\n', confusion_matrix(y_test, y_pred))\n",
    "print('Classification Report: \\n', classification_report(y_test, y_pred))"
   ]
  },
  {
   "cell_type": "markdown",
   "metadata": {},
   "source": [
    "<h2>Let's hypertuning gridsearch </h2>"
   ]
  },
  {
   "cell_type": "code",
   "execution_count": 11,
   "metadata": {},
   "outputs": [],
   "source": [
    "from tensorflow.keras.layers import Dropout\n",
    "\n",
    "def create_model(optimizer='adam', activation='relu', neurons=64, dropout_rate=0.0):\n",
    "    model=Sequential()\n",
    "    model.add(Dense(neurons, input_dim=X_train.shape[1], activation=activation))\n",
    "    model.add(Dropout(dropout_rate))\n",
    "    model.add(Dense(32, activation='relu'))\n",
    "    model.add(Dropout(dropout_rate))\n",
    "    model.add(Dense(1, activation='sigmoid')) \n",
    "\n",
    "    model.compile(loss='binary_crossentropy', optimizer=optimizer, metrics=['accuracy'])\n",
    "    return model"
   ]
  },
  {
   "cell_type": "code",
   "execution_count": 12,
   "metadata": {},
   "outputs": [],
   "source": [
    "from sklearn.model_selection import GridSearchCV, RandomizedSearchCV\n",
    "from tensorflow.keras.wrappers.scikit_learn import KerasClassifier"
   ]
  },
  {
   "cell_type": "code",
   "execution_count": 13,
   "metadata": {},
   "outputs": [
    {
     "name": "stderr",
     "output_type": "stream",
     "text": [
      "/var/folders/pn/lq_2s97j34j4yncm576jk9_r0000gn/T/ipykernel_55949/1310235282.py:1: DeprecationWarning: KerasClassifier is deprecated, use Sci-Keras (https://github.com/adriangb/scikeras) instead. See https://www.adriangb.com/scikeras/stable/migration.html for help migrating.\n",
      "  model=KerasClassifier(build_fn=create_model, epochs=10, batch_size=32, verbose=0)\n"
     ]
    }
   ],
   "source": [
    "model=KerasClassifier(build_fn=create_model, epochs=10, batch_size=32, verbose=0)\n"
   ]
  },
  {
   "cell_type": "code",
   "execution_count": 14,
   "metadata": {},
   "outputs": [
    {
     "name": "stdout",
     "output_type": "stream",
     "text": [
      "46/46 [==============================] - 0s 1ms/step\n",
      "46/46 [==============================] - 0s 2ms/step\n",
      "46/46 [==============================] - 0s 1ms/step\n",
      "46/46 [==============================] - 0s 1ms/step\n",
      "46/46 [==============================] - 0s 930us/step\n",
      "46/46 [==============================] - 0s 1ms/step\n",
      "46/46 [==============================] - 0s 1ms/step\n",
      "46/46 [==============================] - 0s 1ms/step\n",
      "46/46 [==============================] - 0s 1ms/step\n",
      "46/46 [==============================] - 0s 1ms/step\n",
      "46/46 [==============================] - 0s 1ms/step\n",
      "46/46 [==============================] - 0s 924us/step\n",
      "46/46 [==============================] - 0s 987us/step\n",
      "46/46 [==============================] - 0s 2ms/step\n",
      "46/46 [==============================] - 0s 947us/step\n",
      "46/46 [==============================] - 0s 1ms/step\n",
      "46/46 [==============================] - 0s 1ms/step\n",
      "46/46 [==============================] - 0s 1ms/step\n",
      "Best parameters:  {'dropout_rate': 0.2, 'optimizer': 'adam'}\n"
     ]
    }
   ],
   "source": [
    "param_Grid={\n",
    "    'optimizer':['adam', 'sgd'],\n",
    "    'dropout_rate':[0.0, 0.1, 0.2],\n",
    "}\n",
    "\n",
    "grid_search=GridSearchCV(estimator=model, param_grid=param_Grid, scoring='precision', cv=3)\n",
    "\n",
    "#fit the model\n",
    "grid_result=grid_search.fit(X_train, y_train)\n",
    "\n",
    "print('Best parameters: ', grid_result.best_params_)"
   ]
  },
  {
   "cell_type": "code",
   "execution_count": 15,
   "metadata": {},
   "outputs": [],
   "source": [
    "def create_tuned_model(dropout_rate=0.2, optimizer='adam'):\n",
    "    model=Sequential()\n",
    "    model.add(Dense(64, input_dim=X_train.shape[1], activation='relu'))\n",
    "    model.add(Dropout(dropout_rate))\n",
    "    model.add(Dense(32, activation='relu'))\n",
    "    model.add(Dropout(dropout_rate))\n",
    "    model.add(Dense(1, activation='sigmoid')) \n",
    "\n",
    "    model.compile(loss='binary_crossentropy', optimizer=optimizer, metrics=['accuracy'])\n",
    "    return model"
   ]
  },
  {
   "cell_type": "code",
   "execution_count": 16,
   "metadata": {},
   "outputs": [
    {
     "name": "stdout",
     "output_type": "stream",
     "text": [
      "Epoch 1/10\n",
      "110/110 [==============================] - 2s 5ms/step - loss: 0.6863 - accuracy: 0.5816 - val_loss: 0.5727 - val_accuracy: 0.7170\n",
      "Epoch 2/10\n",
      "110/110 [==============================] - 0s 2ms/step - loss: 0.5757 - accuracy: 0.6978 - val_loss: 0.5196 - val_accuracy: 0.7455\n",
      "Epoch 3/10\n",
      "110/110 [==============================] - 0s 2ms/step - loss: 0.5340 - accuracy: 0.7243 - val_loss: 0.4950 - val_accuracy: 0.7818\n",
      "Epoch 4/10\n",
      "110/110 [==============================] - 0s 2ms/step - loss: 0.5135 - accuracy: 0.7425 - val_loss: 0.4906 - val_accuracy: 0.7705\n",
      "Epoch 5/10\n",
      "110/110 [==============================] - 0s 2ms/step - loss: 0.4826 - accuracy: 0.7604 - val_loss: 0.4619 - val_accuracy: 0.7898\n",
      "Epoch 6/10\n",
      "110/110 [==============================] - 0s 4ms/step - loss: 0.4774 - accuracy: 0.7621 - val_loss: 0.4507 - val_accuracy: 0.7977\n",
      "Epoch 7/10\n",
      "110/110 [==============================] - 0s 2ms/step - loss: 0.4526 - accuracy: 0.7803 - val_loss: 0.4432 - val_accuracy: 0.7943\n",
      "Epoch 8/10\n",
      "110/110 [==============================] - 0s 4ms/step - loss: 0.4478 - accuracy: 0.7786 - val_loss: 0.4443 - val_accuracy: 0.7955\n",
      "Epoch 9/10\n",
      "110/110 [==============================] - 0s 4ms/step - loss: 0.4341 - accuracy: 0.7857 - val_loss: 0.4332 - val_accuracy: 0.7977\n",
      "Epoch 10/10\n",
      "110/110 [==============================] - 1s 5ms/step - loss: 0.4308 - accuracy: 0.7939 - val_loss: 0.4290 - val_accuracy: 0.7966\n",
      "35/35 [==============================] - 0s 1ms/step\n",
      "Accuracy: 0.76\n",
      "Confusion Matrix: \n",
      " [[398 153]\n",
      " [106 443]]\n",
      "Classification Report: \n",
      "               precision    recall  f1-score   support\n",
      "\n",
      "           0       0.79      0.72      0.75       551\n",
      "           1       0.74      0.81      0.77       549\n",
      "\n",
      "    accuracy                           0.76      1100\n",
      "   macro avg       0.77      0.76      0.76      1100\n",
      "weighted avg       0.77      0.76      0.76      1100\n",
      "\n"
     ]
    }
   ],
   "source": [
    "tuned_model=create_tuned_model()\n",
    "\n",
    "tuned_model.fit(X_train, y_train, epochs=10, batch_size=32, validation_split=0.2)\n",
    "\n",
    "y_pred=tuned_model.predict(X_test)\n",
    "y_pred=(y_pred>0.5).astype(int).reshape(X_test.shape[0])\n",
    "\n",
    "print('Accuracy: {:.2f}'.format(accuracy_score(y_test, y_pred)))\n",
    "print('Confusion Matrix: \\n', confusion_matrix(y_test, y_pred))\n",
    "print('Classification Report: \\n', classification_report(y_test, y_pred))"
   ]
  },
  {
   "cell_type": "markdown",
   "metadata": {},
   "source": [
    "<h2>Let's hypertuning learning rate </h2>"
   ]
  },
  {
   "cell_type": "code",
   "execution_count": 19,
   "metadata": {},
   "outputs": [],
   "source": [
    "from tensorflow.keras.optimizers import Adam, SGD\n",
    "def create_model_learning_rate( dropout_rate=0.2, learning_rate=0.001):\n",
    "    optimizer=Adam(learning_rate=learning_rate)\n",
    "    model=Sequential()\n",
    "    model.add(Dense(64, input_dim=X_train.shape[1], activation='relu'))\n",
    "    model.add(Dropout(dropout_rate))\n",
    "    model.add(Dense(32, activation='relu'))\n",
    "    model.add(Dropout(dropout_rate))\n",
    "    model.add(Dense(1, activation='sigmoid'))\n",
    "    model.compile(loss='binary_crossentropy', optimizer=optimizer, metrics=['accuracy'])\n",
    "    return model"
   ]
  },
  {
   "cell_type": "code",
   "execution_count": 20,
   "metadata": {},
   "outputs": [
    {
     "name": "stderr",
     "output_type": "stream",
     "text": [
      "/var/folders/pn/lq_2s97j34j4yncm576jk9_r0000gn/T/ipykernel_55949/3057274832.py:1: DeprecationWarning: KerasClassifier is deprecated, use Sci-Keras (https://github.com/adriangb/scikeras) instead. See https://www.adriangb.com/scikeras/stable/migration.html for help migrating.\n",
      "  model=KerasClassifier(build_fn=create_model_learning_rate, epochs=10, batch_size=32, verbose=0)\n"
     ]
    },
    {
     "name": "stdout",
     "output_type": "stream",
     "text": [
      "46/46 [==============================] - 0s 2ms/step\n",
      "46/46 [==============================] - 0s 1ms/step\n",
      "46/46 [==============================] - 0s 1ms/step\n",
      "46/46 [==============================] - 0s 1ms/step\n",
      "46/46 [==============================] - 0s 3ms/step\n",
      "46/46 [==============================] - 0s 940us/step\n",
      "46/46 [==============================] - 0s 1ms/step\n",
      "46/46 [==============================] - 0s 1ms/step\n",
      "46/46 [==============================] - 0s 1ms/step\n"
     ]
    },
    {
     "name": "stderr",
     "output_type": "stream",
     "text": [
      "/Library/Frameworks/Python.framework/Versions/3.10/lib/python3.10/site-packages/sklearn/metrics/_classification.py:1469: UndefinedMetricWarning: Precision is ill-defined and being set to 0.0 due to no predicted samples. Use `zero_division` parameter to control this behavior.\n",
      "  _warn_prf(average, modifier, msg_start, len(result))\n"
     ]
    },
    {
     "name": "stdout",
     "output_type": "stream",
     "text": [
      "Best parameters:  {'learning_rate': 0.01}\n"
     ]
    }
   ],
   "source": [
    "model=KerasClassifier(build_fn=create_model_learning_rate, epochs=10, batch_size=32, verbose=0)\n",
    "\n",
    "param_grid={\n",
    "    'learning_rate':[0.001, 0.01, 0.1],\n",
    "}\n",
    "\n",
    "grid_search=GridSearchCV(estimator=model, param_grid=param_grid, scoring='precision', cv=3)\n",
    "\n",
    "grid_result=grid_search.fit(X_train, y_train)\n",
    "\n",
    "print('Best parameters: ', grid_result.best_params_)"
   ]
  },
  {
   "cell_type": "code",
   "execution_count": 21,
   "metadata": {},
   "outputs": [],
   "source": [
    "model_tuned=create_model_learning_rate(learning_rate=0.01)"
   ]
  },
  {
   "cell_type": "code",
   "execution_count": 22,
   "metadata": {},
   "outputs": [
    {
     "name": "stdout",
     "output_type": "stream",
     "text": [
      "Epoch 1/10\n",
      "110/110 [==============================] - 2s 5ms/step - loss: 0.5804 - accuracy: 0.6944 - val_loss: 0.5072 - val_accuracy: 0.7591\n",
      "Epoch 2/10\n",
      "110/110 [==============================] - 0s 3ms/step - loss: 0.4793 - accuracy: 0.7629 - val_loss: 0.4898 - val_accuracy: 0.7580\n",
      "Epoch 3/10\n",
      "110/110 [==============================] - 0s 2ms/step - loss: 0.4453 - accuracy: 0.7814 - val_loss: 0.4369 - val_accuracy: 0.8011\n",
      "Epoch 4/10\n",
      "110/110 [==============================] - 0s 2ms/step - loss: 0.4369 - accuracy: 0.7897 - val_loss: 0.4305 - val_accuracy: 0.7920\n",
      "Epoch 5/10\n",
      "110/110 [==============================] - 0s 2ms/step - loss: 0.4305 - accuracy: 0.7979 - val_loss: 0.4307 - val_accuracy: 0.7875\n",
      "Epoch 6/10\n",
      "110/110 [==============================] - 0s 3ms/step - loss: 0.4249 - accuracy: 0.7931 - val_loss: 0.5005 - val_accuracy: 0.7602\n",
      "Epoch 7/10\n",
      "110/110 [==============================] - 0s 3ms/step - loss: 0.4123 - accuracy: 0.8059 - val_loss: 0.4248 - val_accuracy: 0.7886\n",
      "Epoch 8/10\n",
      "110/110 [==============================] - 0s 3ms/step - loss: 0.4095 - accuracy: 0.8036 - val_loss: 0.4485 - val_accuracy: 0.7875\n",
      "Epoch 9/10\n",
      "110/110 [==============================] - 0s 2ms/step - loss: 0.4203 - accuracy: 0.7925 - val_loss: 0.4239 - val_accuracy: 0.7841\n",
      "Epoch 10/10\n",
      "110/110 [==============================] - 0s 3ms/step - loss: 0.4022 - accuracy: 0.8024 - val_loss: 0.4158 - val_accuracy: 0.7886\n",
      "35/35 [==============================] - 0s 1ms/step\n",
      "Accuracy: 0.77\n",
      "Confusion Matrix: \n",
      " [[404 147]\n",
      " [106 443]]\n",
      "Classification Report: \n",
      "               precision    recall  f1-score   support\n",
      "\n",
      "           0       0.79      0.73      0.76       551\n",
      "           1       0.75      0.81      0.78       549\n",
      "\n",
      "    accuracy                           0.77      1100\n",
      "   macro avg       0.77      0.77      0.77      1100\n",
      "weighted avg       0.77      0.77      0.77      1100\n",
      "\n"
     ]
    }
   ],
   "source": [
    "model_tuned.fit(X_train, y_train, epochs=10, batch_size=32, validation_split=0.2)\n",
    "\n",
    "y_pred=model_tuned.predict(X_test)\n",
    "y_pred=(y_pred>0.5).astype(int).reshape(X_test.shape[0])\n",
    "\n",
    "print('Accuracy: {:.2f}'.format(accuracy_score(y_test, y_pred)))\n",
    "print('Confusion Matrix: \\n', confusion_matrix(y_test, y_pred))\n",
    "print('Classification Report: \\n', classification_report(y_test, y_pred))"
   ]
  },
  {
   "cell_type": "markdown",
   "metadata": {},
   "source": [
    "<h2>Let's hypertuning model architecture </h2>"
   ]
  },
  {
   "cell_type": "code",
   "execution_count": 23,
   "metadata": {},
   "outputs": [],
   "source": [
    "def create_model_architecture(neurons_layer=64, neurons_layer2=32):\n",
    "    model=Sequential()\n",
    "    model.add(Dense(neurons_layer, input_dim=X_train.shape[1], activation='relu'))\n",
    "    model.add(Dense(neurons_layer2, activation='relu'))\n",
    "    model.add(Dense(1, activation='sigmoid')) \n",
    "\n",
    "    model.compile(loss='binary_crossentropy', optimizer='adam', metrics=['accuracy'])\n",
    "    return model\n",
    "\n"
   ]
  },
  {
   "cell_type": "code",
   "execution_count": 24,
   "metadata": {},
   "outputs": [
    {
     "name": "stderr",
     "output_type": "stream",
     "text": [
      "/var/folders/pn/lq_2s97j34j4yncm576jk9_r0000gn/T/ipykernel_55949/3078346017.py:1: DeprecationWarning: KerasClassifier is deprecated, use Sci-Keras (https://github.com/adriangb/scikeras) instead. See https://www.adriangb.com/scikeras/stable/migration.html for help migrating.\n",
      "  model=KerasClassifier(build_fn=create_model_architecture, epochs=10, batch_size=32, verbose=0)\n"
     ]
    },
    {
     "name": "stdout",
     "output_type": "stream",
     "text": [
      "46/46 [==============================] - 0s 2ms/step\n",
      "46/46 [==============================] - 0s 3ms/step\n",
      "46/46 [==============================] - 0s 1ms/step\n",
      "46/46 [==============================] - 0s 884us/step\n",
      "46/46 [==============================] - 0s 1ms/step\n",
      "46/46 [==============================] - 0s 1ms/step\n",
      "46/46 [==============================] - 0s 1ms/step\n",
      "46/46 [==============================] - 0s 990us/step\n",
      "46/46 [==============================] - 0s 1ms/step\n",
      "46/46 [==============================] - 0s 1ms/step\n",
      "46/46 [==============================] - 0s 1ms/step\n",
      "46/46 [==============================] - 0s 1ms/step\n",
      "46/46 [==============================] - 0s 1ms/step\n",
      "46/46 [==============================] - 0s 1ms/step\n",
      "46/46 [==============================] - 0s 1ms/step\n",
      "46/46 [==============================] - 0s 1ms/step\n",
      "46/46 [==============================] - 0s 2ms/step\n",
      "46/46 [==============================] - 0s 1ms/step\n",
      "46/46 [==============================] - 0s 2ms/step\n",
      "46/46 [==============================] - 0s 1ms/step\n",
      "46/46 [==============================] - 0s 1ms/step\n",
      "46/46 [==============================] - 1s 2ms/step\n",
      "46/46 [==============================] - 0s 1ms/step\n",
      "46/46 [==============================] - 0s 1ms/step\n",
      "46/46 [==============================] - 0s 1ms/step\n",
      "46/46 [==============================] - 0s 1ms/step\n",
      "46/46 [==============================] - 0s 1ms/step\n",
      "Best parameters:  {'neurons_layer': 128, 'neurons_layer2': 16}\n"
     ]
    }
   ],
   "source": [
    "model=KerasClassifier(build_fn=create_model_architecture, epochs=10, batch_size=32, verbose=0)\n",
    "\n",
    "param_grid={\n",
    "    'neurons_layer':[32, 64, 128],\n",
    "    'neurons_layer2':[16, 32, 64]\n",
    "}\n",
    "\n",
    "grid_search=GridSearchCV(estimator=model, param_grid=param_grid, scoring='precision', cv=3)\n",
    "grid_result=grid_search.fit(X_train, y_train)\n",
    "\n",
    "print('Best parameters: ', grid_result.best_params_)"
   ]
  },
  {
   "cell_type": "code",
   "execution_count": 25,
   "metadata": {},
   "outputs": [],
   "source": [
    "def create_optimized_model(dropout_rate=0.2, neurons_layer=128, neurons_layer2=16, learning_rate=0.01):\n",
    "    optimizer=Adam(learning_rate=learning_rate)\n",
    "    model=Sequential()\n",
    "    model.add(Dense(neurons_layer, input_dim=X_train.shape[1], activation='relu'))\n",
    "    model.add(Dropout(dropout_rate))\n",
    "    model.add(Dense(neurons_layer2, activation='relu'))\n",
    "    model.add(Dropout(dropout_rate))\n",
    "    model.add(Dense(1, activation='sigmoid')) \n",
    "\n",
    "    model.compile(loss='binary_crossentropy', optimizer=optimizer, metrics=['accuracy'])\n",
    "    return model"
   ]
  },
  {
   "cell_type": "code",
   "execution_count": 26,
   "metadata": {},
   "outputs": [
    {
     "name": "stdout",
     "output_type": "stream",
     "text": [
      "Epoch 1/10\n",
      "110/110 [==============================] - 2s 4ms/step - loss: 0.5552 - accuracy: 0.7146 - val_loss: 0.5023 - val_accuracy: 0.7773\n",
      "Epoch 2/10\n",
      "110/110 [==============================] - 0s 4ms/step - loss: 0.4789 - accuracy: 0.7683 - val_loss: 0.4597 - val_accuracy: 0.7807\n",
      "Epoch 3/10\n",
      "110/110 [==============================] - 0s 3ms/step - loss: 0.4561 - accuracy: 0.7797 - val_loss: 0.4450 - val_accuracy: 0.7966\n",
      "Epoch 4/10\n",
      "110/110 [==============================] - 0s 3ms/step - loss: 0.4413 - accuracy: 0.7897 - val_loss: 0.4677 - val_accuracy: 0.7886\n",
      "Epoch 5/10\n",
      "110/110 [==============================] - 0s 4ms/step - loss: 0.4245 - accuracy: 0.7959 - val_loss: 0.4295 - val_accuracy: 0.7966\n",
      "Epoch 6/10\n",
      "110/110 [==============================] - 0s 4ms/step - loss: 0.4202 - accuracy: 0.7990 - val_loss: 0.4314 - val_accuracy: 0.7977\n",
      "Epoch 7/10\n",
      "110/110 [==============================] - 1s 5ms/step - loss: 0.4164 - accuracy: 0.7973 - val_loss: 0.4472 - val_accuracy: 0.7784\n",
      "Epoch 8/10\n",
      "110/110 [==============================] - 0s 4ms/step - loss: 0.4113 - accuracy: 0.8016 - val_loss: 0.4232 - val_accuracy: 0.7898\n",
      "Epoch 9/10\n",
      "110/110 [==============================] - 0s 3ms/step - loss: 0.4188 - accuracy: 0.7925 - val_loss: 0.4177 - val_accuracy: 0.7818\n",
      "Epoch 10/10\n",
      "110/110 [==============================] - 0s 3ms/step - loss: 0.4095 - accuracy: 0.8047 - val_loss: 0.4253 - val_accuracy: 0.7932\n",
      "35/35 [==============================] - 0s 1ms/step\n",
      "Accuracy: 0.78\n",
      "Confusion Matrix: \n",
      " [[419 132]\n",
      " [115 434]]\n",
      "Classification Report: \n",
      "               precision    recall  f1-score   support\n",
      "\n",
      "           0       0.78      0.76      0.77       551\n",
      "           1       0.77      0.79      0.78       549\n",
      "\n",
      "    accuracy                           0.78      1100\n",
      "   macro avg       0.78      0.78      0.78      1100\n",
      "weighted avg       0.78      0.78      0.78      1100\n",
      "\n"
     ]
    }
   ],
   "source": [
    "optimized_model=create_optimized_model()\n",
    "\n",
    "optimized_model.fit(X_train, y_train, epochs=10, batch_size=32, validation_split=0.2)\n",
    "\n",
    "y_pred=optimized_model.predict(X_test)\n",
    "y_pred=(y_pred>0.5).astype(int).reshape(X_test.shape[0])\n",
    "\n",
    "print('Accuracy: {:.2f}'.format(accuracy_score(y_test, y_pred)))\n",
    "print('Confusion Matrix: \\n', confusion_matrix(y_test, y_pred))\n",
    "print('Classification Report: \\n', classification_report(y_test, y_pred))"
   ]
  },
  {
   "cell_type": "code",
   "execution_count": 27,
   "metadata": {},
   "outputs": [
    {
     "name": "stdout",
     "output_type": "stream",
     "text": [
      "35/35 [==============================] - 0s 2ms/step\n"
     ]
    }
   ],
   "source": [
    "threshold=0.5\n",
    "test_set_probability_of_wining=optimized_model.predict(X_test)\n",
    "test_set_prediction=(test_set_probability_of_wining>threshold).astype(int).reshape(X_test.shape[0])"
   ]
  },
  {
   "cell_type": "code",
   "execution_count": null,
   "metadata": {},
   "outputs": [],
   "source": []
  }
 ],
 "metadata": {
  "kernelspec": {
   "display_name": "Python 3",
   "language": "python",
   "name": "python3"
  },
  "language_info": {
   "codemirror_mode": {
    "name": "ipython",
    "version": 3
   },
   "file_extension": ".py",
   "mimetype": "text/x-python",
   "name": "python",
   "nbconvert_exporter": "python",
   "pygments_lexer": "ipython3",
   "version": "3.10.5"
  }
 },
 "nbformat": 4,
 "nbformat_minor": 2
}
