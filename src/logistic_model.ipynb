{
 "cells": [
  {
   "cell_type": "code",
   "execution_count": 1,
   "metadata": {},
   "outputs": [],
   "source": [
    "import numpy as np\n",
    "import pandas as pd\n",
    "import matplotlib.pyplot as plt\n",
    "import seaborn as sns\n",
    "sns.set(style='darkgrid')\n",
    "from utils import *"
   ]
  },
  {
   "cell_type": "code",
   "execution_count": 2,
   "metadata": {},
   "outputs": [
    {
     "data": {
      "text/html": [
       "<div>\n",
       "<style scoped>\n",
       "    .dataframe tbody tr th:only-of-type {\n",
       "        vertical-align: middle;\n",
       "    }\n",
       "\n",
       "    .dataframe tbody tr th {\n",
       "        vertical-align: top;\n",
       "    }\n",
       "\n",
       "    .dataframe thead th {\n",
       "        text-align: right;\n",
       "    }\n",
       "</style>\n",
       "<table border=\"1\" class=\"dataframe\">\n",
       "  <thead>\n",
       "    <tr style=\"text-align: right;\">\n",
       "      <th></th>\n",
       "      <th>player_id</th>\n",
       "      <th>player_name</th>\n",
       "      <th>player_hand</th>\n",
       "      <th>player_ht</th>\n",
       "      <th>player_age</th>\n",
       "      <th>ace</th>\n",
       "      <th>df</th>\n",
       "      <th>svpt</th>\n",
       "      <th>1stIn</th>\n",
       "      <th>1stWon</th>\n",
       "      <th>...</th>\n",
       "      <th>SvGms</th>\n",
       "      <th>bpSaved</th>\n",
       "      <th>bpFaced</th>\n",
       "      <th>rank</th>\n",
       "      <th>opponent_rank</th>\n",
       "      <th>surface</th>\n",
       "      <th>tourney_level</th>\n",
       "      <th>best_of</th>\n",
       "      <th>target</th>\n",
       "      <th>month</th>\n",
       "    </tr>\n",
       "  </thead>\n",
       "  <tbody>\n",
       "    <tr>\n",
       "      <th>0</th>\n",
       "      <td>100644</td>\n",
       "      <td>Alexander Zverev</td>\n",
       "      <td>R</td>\n",
       "      <td>198</td>\n",
       "      <td>26</td>\n",
       "      <td>10</td>\n",
       "      <td>1</td>\n",
       "      <td>66</td>\n",
       "      <td>47</td>\n",
       "      <td>33</td>\n",
       "      <td>...</td>\n",
       "      <td>10</td>\n",
       "      <td>3</td>\n",
       "      <td>4</td>\n",
       "      <td>7</td>\n",
       "      <td>5</td>\n",
       "      <td>Hard</td>\n",
       "      <td>A</td>\n",
       "      <td>3</td>\n",
       "      <td>1</td>\n",
       "      <td>11</td>\n",
       "    </tr>\n",
       "    <tr>\n",
       "      <th>1</th>\n",
       "      <td>100644</td>\n",
       "      <td>Alexander Zverev</td>\n",
       "      <td>R</td>\n",
       "      <td>198</td>\n",
       "      <td>25</td>\n",
       "      <td>5</td>\n",
       "      <td>1</td>\n",
       "      <td>44</td>\n",
       "      <td>27</td>\n",
       "      <td>16</td>\n",
       "      <td>...</td>\n",
       "      <td>8</td>\n",
       "      <td>3</td>\n",
       "      <td>7</td>\n",
       "      <td>15</td>\n",
       "      <td>97</td>\n",
       "      <td>Hard</td>\n",
       "      <td>M</td>\n",
       "      <td>3</td>\n",
       "      <td>0</td>\n",
       "      <td>3</td>\n",
       "    </tr>\n",
       "    <tr>\n",
       "      <th>2</th>\n",
       "      <td>100644</td>\n",
       "      <td>Alexander Zverev</td>\n",
       "      <td>R</td>\n",
       "      <td>198</td>\n",
       "      <td>26</td>\n",
       "      <td>5</td>\n",
       "      <td>5</td>\n",
       "      <td>90</td>\n",
       "      <td>66</td>\n",
       "      <td>50</td>\n",
       "      <td>...</td>\n",
       "      <td>15</td>\n",
       "      <td>3</td>\n",
       "      <td>6</td>\n",
       "      <td>19</td>\n",
       "      <td>81</td>\n",
       "      <td>Clay</td>\n",
       "      <td>A</td>\n",
       "      <td>3</td>\n",
       "      <td>1</td>\n",
       "      <td>7</td>\n",
       "    </tr>\n",
       "    <tr>\n",
       "      <th>3</th>\n",
       "      <td>100644</td>\n",
       "      <td>Alexander Zverev</td>\n",
       "      <td>R</td>\n",
       "      <td>198</td>\n",
       "      <td>26</td>\n",
       "      <td>3</td>\n",
       "      <td>1</td>\n",
       "      <td>41</td>\n",
       "      <td>33</td>\n",
       "      <td>26</td>\n",
       "      <td>...</td>\n",
       "      <td>7</td>\n",
       "      <td>2</td>\n",
       "      <td>2</td>\n",
       "      <td>19</td>\n",
       "      <td>122</td>\n",
       "      <td>Clay</td>\n",
       "      <td>A</td>\n",
       "      <td>3</td>\n",
       "      <td>1</td>\n",
       "      <td>7</td>\n",
       "    </tr>\n",
       "    <tr>\n",
       "      <th>4</th>\n",
       "      <td>100644</td>\n",
       "      <td>Alexander Zverev</td>\n",
       "      <td>R</td>\n",
       "      <td>198</td>\n",
       "      <td>26</td>\n",
       "      <td>7</td>\n",
       "      <td>0</td>\n",
       "      <td>55</td>\n",
       "      <td>42</td>\n",
       "      <td>20</td>\n",
       "      <td>...</td>\n",
       "      <td>8</td>\n",
       "      <td>2</td>\n",
       "      <td>6</td>\n",
       "      <td>10</td>\n",
       "      <td>50</td>\n",
       "      <td>Hard</td>\n",
       "      <td>M</td>\n",
       "      <td>3</td>\n",
       "      <td>0</td>\n",
       "      <td>10</td>\n",
       "    </tr>\n",
       "  </tbody>\n",
       "</table>\n",
       "<p>5 rows × 21 columns</p>\n",
       "</div>"
      ],
      "text/plain": [
       "   player_id       player_name player_hand  player_ht  player_age  ace  df  \\\n",
       "0     100644  Alexander Zverev           R        198          26   10   1   \n",
       "1     100644  Alexander Zverev           R        198          25    5   1   \n",
       "2     100644  Alexander Zverev           R        198          26    5   5   \n",
       "3     100644  Alexander Zverev           R        198          26    3   1   \n",
       "4     100644  Alexander Zverev           R        198          26    7   0   \n",
       "\n",
       "   svpt  1stIn  1stWon  ...  SvGms  bpSaved  bpFaced  rank  opponent_rank  \\\n",
       "0    66     47      33  ...     10        3        4     7              5   \n",
       "1    44     27      16  ...      8        3        7    15             97   \n",
       "2    90     66      50  ...     15        3        6    19             81   \n",
       "3    41     33      26  ...      7        2        2    19            122   \n",
       "4    55     42      20  ...      8        2        6    10             50   \n",
       "\n",
       "   surface tourney_level best_of  target  month  \n",
       "0     Hard             A       3       1     11  \n",
       "1     Hard             M       3       0      3  \n",
       "2     Clay             A       3       1      7  \n",
       "3     Clay             A       3       1      7  \n",
       "4     Hard             M       3       0     10  \n",
       "\n",
       "[5 rows x 21 columns]"
      ]
     },
     "execution_count": 2,
     "metadata": {},
     "output_type": "execute_result"
    }
   ],
   "source": [
    "df_tennis=pd.read_csv('../data/prepared_data.csv')\n",
    "df_tennis.head()"
   ]
  },
  {
   "cell_type": "code",
   "execution_count": 3,
   "metadata": {},
   "outputs": [
    {
     "data": {
      "text/plain": [
       "Index(['player_id', 'player_name', 'player_hand', 'player_ht', 'player_age',\n",
       "       'ace', 'df', 'svpt', '1stIn', '1stWon', '2ndWon', 'SvGms', 'bpSaved',\n",
       "       'bpFaced', 'rank', 'opponent_rank', 'surface', 'tourney_level',\n",
       "       'best_of', 'target', 'month'],\n",
       "      dtype='object')"
      ]
     },
     "execution_count": 3,
     "metadata": {},
     "output_type": "execute_result"
    }
   ],
   "source": [
    "df_tennis.columns"
   ]
  },
  {
   "cell_type": "code",
   "execution_count": 4,
   "metadata": {},
   "outputs": [
    {
     "data": {
      "text/plain": [
       "player_id        0\n",
       "player_name      0\n",
       "player_hand      0\n",
       "player_ht        0\n",
       "player_age       0\n",
       "ace              0\n",
       "df               0\n",
       "svpt             0\n",
       "1stIn            0\n",
       "1stWon           0\n",
       "2ndWon           0\n",
       "SvGms            0\n",
       "bpSaved          0\n",
       "bpFaced          0\n",
       "rank             0\n",
       "opponent_rank    0\n",
       "surface          0\n",
       "tourney_level    0\n",
       "best_of          0\n",
       "target           0\n",
       "month            0\n",
       "dtype: int64"
      ]
     },
     "execution_count": 4,
     "metadata": {},
     "output_type": "execute_result"
    }
   ],
   "source": [
    "#let's check for null values \n",
    "df_tennis.isnull().sum()"
   ]
  },
  {
   "cell_type": "code",
   "execution_count": 5,
   "metadata": {},
   "outputs": [
    {
     "name": "stdout",
     "output_type": "stream",
     "text": [
      "<class 'pandas.core.frame.DataFrame'>\n",
      "RangeIndex: 5498 entries, 0 to 5497\n",
      "Data columns (total 21 columns):\n",
      " #   Column         Non-Null Count  Dtype \n",
      "---  ------         --------------  ----- \n",
      " 0   player_id      5498 non-null   int64 \n",
      " 1   player_name    5498 non-null   object\n",
      " 2   player_hand    5498 non-null   object\n",
      " 3   player_ht      5498 non-null   int64 \n",
      " 4   player_age     5498 non-null   int64 \n",
      " 5   ace            5498 non-null   int64 \n",
      " 6   df             5498 non-null   int64 \n",
      " 7   svpt           5498 non-null   int64 \n",
      " 8   1stIn          5498 non-null   int64 \n",
      " 9   1stWon         5498 non-null   int64 \n",
      " 10  2ndWon         5498 non-null   int64 \n",
      " 11  SvGms          5498 non-null   int64 \n",
      " 12  bpSaved        5498 non-null   int64 \n",
      " 13  bpFaced        5498 non-null   int64 \n",
      " 14  rank           5498 non-null   int64 \n",
      " 15  opponent_rank  5498 non-null   int64 \n",
      " 16  surface        5498 non-null   object\n",
      " 17  tourney_level  5498 non-null   object\n",
      " 18  best_of        5498 non-null   int64 \n",
      " 19  target         5498 non-null   int64 \n",
      " 20  month          5498 non-null   int64 \n",
      "dtypes: int64(17), object(4)\n",
      "memory usage: 902.1+ KB\n"
     ]
    }
   ],
   "source": [
    "df_tennis.info()"
   ]
  },
  {
   "cell_type": "code",
   "execution_count": 6,
   "metadata": {},
   "outputs": [
    {
     "data": {
      "text/html": [
       "<div>\n",
       "<style scoped>\n",
       "    .dataframe tbody tr th:only-of-type {\n",
       "        vertical-align: middle;\n",
       "    }\n",
       "\n",
       "    .dataframe tbody tr th {\n",
       "        vertical-align: top;\n",
       "    }\n",
       "\n",
       "    .dataframe thead th {\n",
       "        text-align: right;\n",
       "    }\n",
       "</style>\n",
       "<table border=\"1\" class=\"dataframe\">\n",
       "  <thead>\n",
       "    <tr style=\"text-align: right;\">\n",
       "      <th></th>\n",
       "      <th>player_name</th>\n",
       "      <th>player_hand</th>\n",
       "      <th>player_ht</th>\n",
       "      <th>player_age</th>\n",
       "      <th>ace</th>\n",
       "      <th>df</th>\n",
       "      <th>svpt</th>\n",
       "      <th>1stIn</th>\n",
       "      <th>1stWon</th>\n",
       "      <th>2ndWon</th>\n",
       "      <th>SvGms</th>\n",
       "      <th>bpSaved</th>\n",
       "      <th>bpFaced</th>\n",
       "      <th>rank</th>\n",
       "      <th>opponent_rank</th>\n",
       "      <th>surface</th>\n",
       "      <th>tourney_level</th>\n",
       "      <th>best_of</th>\n",
       "      <th>target</th>\n",
       "      <th>month</th>\n",
       "    </tr>\n",
       "  </thead>\n",
       "  <tbody>\n",
       "    <tr>\n",
       "      <th>0</th>\n",
       "      <td>Alexander Zverev</td>\n",
       "      <td>R</td>\n",
       "      <td>198</td>\n",
       "      <td>26</td>\n",
       "      <td>10</td>\n",
       "      <td>1</td>\n",
       "      <td>66</td>\n",
       "      <td>47</td>\n",
       "      <td>33</td>\n",
       "      <td>11</td>\n",
       "      <td>10</td>\n",
       "      <td>3</td>\n",
       "      <td>4</td>\n",
       "      <td>7</td>\n",
       "      <td>5</td>\n",
       "      <td>Hard</td>\n",
       "      <td>A</td>\n",
       "      <td>3</td>\n",
       "      <td>1</td>\n",
       "      <td>11</td>\n",
       "    </tr>\n",
       "    <tr>\n",
       "      <th>1</th>\n",
       "      <td>Alexander Zverev</td>\n",
       "      <td>R</td>\n",
       "      <td>198</td>\n",
       "      <td>25</td>\n",
       "      <td>5</td>\n",
       "      <td>1</td>\n",
       "      <td>44</td>\n",
       "      <td>27</td>\n",
       "      <td>16</td>\n",
       "      <td>7</td>\n",
       "      <td>8</td>\n",
       "      <td>3</td>\n",
       "      <td>7</td>\n",
       "      <td>15</td>\n",
       "      <td>97</td>\n",
       "      <td>Hard</td>\n",
       "      <td>M</td>\n",
       "      <td>3</td>\n",
       "      <td>0</td>\n",
       "      <td>3</td>\n",
       "    </tr>\n",
       "    <tr>\n",
       "      <th>2</th>\n",
       "      <td>Alexander Zverev</td>\n",
       "      <td>R</td>\n",
       "      <td>198</td>\n",
       "      <td>26</td>\n",
       "      <td>5</td>\n",
       "      <td>5</td>\n",
       "      <td>90</td>\n",
       "      <td>66</td>\n",
       "      <td>50</td>\n",
       "      <td>8</td>\n",
       "      <td>15</td>\n",
       "      <td>3</td>\n",
       "      <td>6</td>\n",
       "      <td>19</td>\n",
       "      <td>81</td>\n",
       "      <td>Clay</td>\n",
       "      <td>A</td>\n",
       "      <td>3</td>\n",
       "      <td>1</td>\n",
       "      <td>7</td>\n",
       "    </tr>\n",
       "    <tr>\n",
       "      <th>3</th>\n",
       "      <td>Alexander Zverev</td>\n",
       "      <td>R</td>\n",
       "      <td>198</td>\n",
       "      <td>26</td>\n",
       "      <td>3</td>\n",
       "      <td>1</td>\n",
       "      <td>41</td>\n",
       "      <td>33</td>\n",
       "      <td>26</td>\n",
       "      <td>4</td>\n",
       "      <td>7</td>\n",
       "      <td>2</td>\n",
       "      <td>2</td>\n",
       "      <td>19</td>\n",
       "      <td>122</td>\n",
       "      <td>Clay</td>\n",
       "      <td>A</td>\n",
       "      <td>3</td>\n",
       "      <td>1</td>\n",
       "      <td>7</td>\n",
       "    </tr>\n",
       "    <tr>\n",
       "      <th>4</th>\n",
       "      <td>Alexander Zverev</td>\n",
       "      <td>R</td>\n",
       "      <td>198</td>\n",
       "      <td>26</td>\n",
       "      <td>7</td>\n",
       "      <td>0</td>\n",
       "      <td>55</td>\n",
       "      <td>42</td>\n",
       "      <td>20</td>\n",
       "      <td>8</td>\n",
       "      <td>8</td>\n",
       "      <td>2</td>\n",
       "      <td>6</td>\n",
       "      <td>10</td>\n",
       "      <td>50</td>\n",
       "      <td>Hard</td>\n",
       "      <td>M</td>\n",
       "      <td>3</td>\n",
       "      <td>0</td>\n",
       "      <td>10</td>\n",
       "    </tr>\n",
       "  </tbody>\n",
       "</table>\n",
       "</div>"
      ],
      "text/plain": [
       "        player_name player_hand  player_ht  player_age  ace  df  svpt  1stIn  \\\n",
       "0  Alexander Zverev           R        198          26   10   1    66     47   \n",
       "1  Alexander Zverev           R        198          25    5   1    44     27   \n",
       "2  Alexander Zverev           R        198          26    5   5    90     66   \n",
       "3  Alexander Zverev           R        198          26    3   1    41     33   \n",
       "4  Alexander Zverev           R        198          26    7   0    55     42   \n",
       "\n",
       "   1stWon  2ndWon  SvGms  bpSaved  bpFaced  rank  opponent_rank surface  \\\n",
       "0      33      11     10        3        4     7              5    Hard   \n",
       "1      16       7      8        3        7    15             97    Hard   \n",
       "2      50       8     15        3        6    19             81    Clay   \n",
       "3      26       4      7        2        2    19            122    Clay   \n",
       "4      20       8      8        2        6    10             50    Hard   \n",
       "\n",
       "  tourney_level  best_of  target  month  \n",
       "0             A        3       1     11  \n",
       "1             M        3       0      3  \n",
       "2             A        3       1      7  \n",
       "3             A        3       1      7  \n",
       "4             M        3       0     10  "
      ]
     },
     "execution_count": 6,
     "metadata": {},
     "output_type": "execute_result"
    }
   ],
   "source": [
    "df_tennis.drop('player_id',axis=1,inplace=True)\n",
    "\n",
    "df_tennis.head()"
   ]
  },
  {
   "cell_type": "markdown",
   "metadata": {},
   "source": [
    "<p> Good shape now for our model </p>"
   ]
  },
  {
   "cell_type": "code",
   "execution_count": 7,
   "metadata": {},
   "outputs": [],
   "source": [
    "import pandas as pd\n",
    "from sklearn.preprocessing import LabelEncoder, OneHotEncoder\n",
    "from sklearn.compose import ColumnTransformer\n",
    "from sklearn.model_selection import train_test_split\n",
    "from sklearn.linear_model import LogisticRegression\n",
    "from sklearn.metrics import accuracy_score"
   ]
  },
  {
   "cell_type": "code",
   "execution_count": 8,
   "metadata": {},
   "outputs": [
    {
     "name": "stdout",
     "output_type": "stream",
     "text": [
      "Accuracy:  0.78\n"
     ]
    },
    {
     "name": "stderr",
     "output_type": "stream",
     "text": [
      "/Library/Frameworks/Python.framework/Versions/3.10/lib/python3.10/site-packages/sklearn/linear_model/_logistic.py:460: ConvergenceWarning: lbfgs failed to converge (status=1):\n",
      "STOP: TOTAL NO. of ITERATIONS REACHED LIMIT.\n",
      "\n",
      "Increase the number of iterations (max_iter) or scale the data as shown in:\n",
      "    https://scikit-learn.org/stable/modules/preprocessing.html\n",
      "Please also refer to the documentation for alternative solver options:\n",
      "    https://scikit-learn.org/stable/modules/linear_model.html#logistic-regression\n",
      "  n_iter_i = _check_optimize_result(\n"
     ]
    }
   ],
   "source": [
    "#label encoder for player_hand\n",
    "le=LabelEncoder()\n",
    "df_tennis['player_hand_encoded']=le.fit_transform(df_tennis['player_hand'])\n",
    "\n",
    "#one hot encode\n",
    "df_tennis=pd.get_dummies(df_tennis, columns=['surface', 'tourney_level'], drop_first=True)\n",
    "\n",
    "#train test split\n",
    "X=df_tennis.drop(['target', 'player_name', 'player_hand'], axis=1)\n",
    "\n",
    "y=df_tennis['target']\n",
    "\n",
    "X_train, X_test, y_train, y_test=train_test_split(X, y, test_size=0.2, random_state=42)\n",
    "\n",
    "model=LogisticRegression()\n",
    "\n",
    "model.fit(X_train, y_train)\n",
    "\n",
    "y_pred=model.predict(X_test)\n",
    "\n",
    "accuracy=accuracy_score(y_test, y_pred)\n",
    "print('Accuracy: ', accuracy)\n",
    "\n"
   ]
  },
  {
   "cell_type": "code",
   "execution_count": 9,
   "metadata": {},
   "outputs": [],
   "source": [
    "threshold=0.5\n",
    "test_set_probability_of_winning=model.predict_proba(X_test) #predict_proba returns probability of each class\n",
    "test_set_predictions=(test_set_probability_of_winning[:,1]>threshold).astype(int) #checking if probability of winning is greater than threshold"
   ]
  },
  {
   "cell_type": "code",
   "execution_count": 10,
   "metadata": {},
   "outputs": [
    {
     "name": "stdout",
     "output_type": "stream",
     "text": [
      "classification_report: \n",
      "               precision    recall  f1-score   support\n",
      "\n",
      "           0       0.79      0.76      0.78       551\n",
      "           1       0.77      0.80      0.78       549\n",
      "\n",
      "    accuracy                           0.78      1100\n",
      "   macro avg       0.78      0.78      0.78      1100\n",
      "weighted avg       0.78      0.78      0.78      1100\n",
      "\n",
      "ROC_AUC:  0.8547102635050035\n"
     ]
    }
   ],
   "source": [
    "from sklearn.metrics import  roc_auc_score, classification_report\n",
    "\n",
    "print(\"classification_report: \\n\", classification_report(y_test, test_set_predictions))\n",
    "\n",
    "#Receiver Operating Characteristic - Area Under the Curve \n",
    "roc_auc=roc_auc_score(y_test, test_set_probability_of_winning[:,1])\n",
    "print('ROC_AUC: ', roc_auc)"
   ]
  },
  {
   "cell_type": "markdown",
   "metadata": {},
   "source": [
    "<p>A higher ROC-AUC score indicates better discrimination and the model is effective distinguishing between the classes. So the model has good separability <p>"
   ]
  },
  {
   "cell_type": "code",
   "execution_count": 11,
   "metadata": {},
   "outputs": [
    {
     "name": "stdout",
     "output_type": "stream",
     "text": [
      "Requirement already satisfied: fuzzywuzzy in /Library/Frameworks/Python.framework/Versions/3.10/lib/python3.10/site-packages (0.18.0)\n",
      "\n",
      "\u001b[1m[\u001b[0m\u001b[34;49mnotice\u001b[0m\u001b[1;39;49m]\u001b[0m\u001b[39;49m A new release of pip is available: \u001b[0m\u001b[31;49m23.2.1\u001b[0m\u001b[39;49m -> \u001b[0m\u001b[32;49m23.3.1\u001b[0m\n",
      "\u001b[1m[\u001b[0m\u001b[34;49mnotice\u001b[0m\u001b[1;39;49m]\u001b[0m\u001b[39;49m To update, run: \u001b[0m\u001b[32;49mpip install --upgrade pip\u001b[0m\n"
     ]
    }
   ],
   "source": [
    "!pip install fuzzywuzzy"
   ]
  },
  {
   "cell_type": "code",
   "execution_count": 12,
   "metadata": {},
   "outputs": [
    {
     "name": "stderr",
     "output_type": "stream",
     "text": [
      "/Library/Frameworks/Python.framework/Versions/3.10/lib/python3.10/site-packages/fuzzywuzzy/fuzz.py:11: UserWarning: Using slow pure-python SequenceMatcher. Install python-Levenshtein to remove this warning\n",
      "  warnings.warn('Using slow pure-python SequenceMatcher. Install python-Levenshtein to remove this warning')\n"
     ]
    },
    {
     "name": "stdout",
     "output_type": "stream",
     "text": [
      "('Matteo Arnaldi', 96, 5211)\n"
     ]
    }
   ],
   "source": [
    "#Using to find the right spelling of a player's name\n",
    "from fuzzywuzzy import process\n",
    "\n",
    "name_to_search=\"Mateo Arnaldi\"\n",
    "\n",
    "best_match=process.extractOne(name_to_search, df_tennis['player_name'])\n",
    "\n",
    "print(best_match)"
   ]
  },
  {
   "cell_type": "code",
   "execution_count": 47,
   "metadata": {},
   "outputs": [
    {
     "name": "stdout",
     "output_type": "stream",
     "text": [
      "Probability of Novak Djokovic winning: 73.38%\n",
      "Probability of Daniil Medvedev winning: 8.29%\n"
     ]
    }
   ],
   "source": [
    "\n",
    "# Create a new data point for prediction\n",
    "player1_dict={\n",
    "    'player1': 'Novak Djokovic',\n",
    "    'player1_rank': 1,\n",
    "    'player1_age': 36,\n",
    "}\n",
    "player2_dict={\n",
    "    'player2': 'Daniil Medvedev',\n",
    "    'player2_rank': 3,\n",
    "    'player2_age': 27,\n",
    "}\n",
    "\n",
    "match_dict={\n",
    "    'surface': 'Clay',\n",
    "    'tourney_level': 'G',\n",
    "    'best_of':5\n",
    "}\n",
    "\n",
    "\n",
    "new_data_point = data_point(player1_dict, player2_dict, match_dict)\n",
    "\n",
    "\n",
    "# label encoding for player_hand\n",
    "new_data_point['player_hand_encoded'] = le.transform(new_data_point['player_hand'])\n",
    "\n",
    "# one hot encoding for surface and tourney_level\n",
    "new_data_point = pd.get_dummies(new_data_point, columns=['surface', 'tourney_level'], prefix=['surface', 'tourney_level'])\n",
    "\n",
    "# droping player_hand column\n",
    "new_data_point = new_data_point.drop(['player_hand'], axis=1)\n",
    "\n",
    "#if there are any missing columns, add them and fill them with 0\n",
    "missing_cols = set(X_train.columns) - set(new_data_point.columns)\n",
    "for col in missing_cols:\n",
    "    new_data_point[col] = 0\n",
    "\n",
    "# Ensure the order of column in the test set is in the same order than in train set\n",
    "new_data_point = new_data_point[X_train.columns]\n",
    "\n",
    "# Make Prediction\n",
    "probability_of_winning = model.predict_proba(new_data_point)\n",
    "\n",
    "# Print the predicted probabilities\n",
    "\n",
    "print(f\"Probability of {player1_dict['player1']} winning: {probability_of_winning[0, 1]:.2%}\")\n",
    "print(f\"Probability of {player2_dict['player2']} winning: {probability_of_winning[1, 1]:.2%}\")"
   ]
  },
  {
   "cell_type": "markdown",
   "metadata": {},
   "source": [
    "![Example Image](./tournament.png)\n"
   ]
  },
  {
   "cell_type": "code",
   "execution_count": 16,
   "metadata": {},
   "outputs": [
    {
     "data": {
      "text/plain": [
       "['logistic_model.joblib']"
      ]
     },
     "execution_count": 16,
     "metadata": {},
     "output_type": "execute_result"
    }
   ],
   "source": [
    "#let's save the model\n",
    "import joblib\n",
    "\n",
    "joblib.dump(model, 'logistic_model.joblib')"
   ]
  }
 ],
 "metadata": {
  "kernelspec": {
   "display_name": "Python 3",
   "language": "python",
   "name": "python3"
  },
  "language_info": {
   "codemirror_mode": {
    "name": "ipython",
    "version": 3
   },
   "file_extension": ".py",
   "mimetype": "text/x-python",
   "name": "python",
   "nbconvert_exporter": "python",
   "pygments_lexer": "ipython3",
   "version": "3.10.5"
  }
 },
 "nbformat": 4,
 "nbformat_minor": 2
}
